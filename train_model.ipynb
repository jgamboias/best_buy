{
 "cells": [
  {
   "cell_type": "markdown",
   "id": "8ca72a89",
   "metadata": {},
   "source": [
    "Using the following dataset, https://github.com/BestBuyAPIs/open-data-set; build \n",
    "an API with one endpoint that receives the “name” and “description” of a \n",
    "new product as input parameters, and outputs the “category” or “categories” that \n",
    "this new product should be in.\n",
    "\n",
    "Expectations:\n",
    "\n",
    "    • You have a data pipeline that handles the dataset.\n",
    "    • You build a classifier that predicts the category(s) of a new product.\n",
    "        ◦ You can decide if your model would output one or multiple labels.\n",
    "        ◦ You don't need to spend lots of time comparing different models.\n",
    "        ◦ You don't need to spend lots of time on trying to have the state of the art feature engineering.\n",
    "    • You build one API endpoint that exposes the classifier as a solution to label new products."
   ]
  },
  {
   "cell_type": "code",
   "execution_count": 2,
   "id": "dc4c43b2",
   "metadata": {},
   "outputs": [],
   "source": [
    "import common\n",
    "import numpy as np\n",
    "import pandas as pd\n",
    "from joblib import dump, load\n",
    "from sklearn.pipeline import Pipeline\n",
    "from sklearn.naive_bayes import MultinomialNB\n",
    "from sklearn.datasets import fetch_20newsgroups\n",
    "from sklearn.feature_extraction.text import CountVectorizer"
   ]
  },
  {
   "cell_type": "code",
   "execution_count": 3,
   "id": "1343bae7",
   "metadata": {},
   "outputs": [],
   "source": [
    "# read data\n",
    "categories_path = 'open-data-set-master/categories.json'\n",
    "products_path = 'open-data-set-master/products.json'\n",
    "stores_path = 'open-data-set-master/stores.json'\n",
    "\n",
    "categories = common.read_file(categories_path)\n",
    "products = common.read_file(products_path)\n",
    "stores = common.read_file(stores_path)"
   ]
  },
  {
   "cell_type": "code",
   "execution_count": 4,
   "id": "c0a5904b",
   "metadata": {},
   "outputs": [
    {
     "name": "stdout",
     "output_type": "stream",
     "text": [
      "cat1\n",
      "cat2\n",
      "cat3\n",
      "cat4\n",
      "cat5\n",
      "cat6\n",
      "cat7\n"
     ]
    }
   ],
   "source": [
    "# feat engineering\n",
    "cat_df = pd.DataFrame.from_dict(categories)\n",
    "\n",
    "prod_df = pd.DataFrame.from_dict(products)\n",
    "cat_list = ['cat1','cat2', 'cat3', 'cat4', 'cat5', 'cat6', 'cat7']\n",
    "\n",
    "prod_df[cat_list] = pd.DataFrame(prod_df.category.tolist(), index=prod_df.index)\n",
    "\n",
    "# for now using only the first category, needs to include all of them\n",
    "for cat in cat_list:\n",
    "    print(cat)\n",
    "    cat_col = prod_df[cat].values.tolist()\n",
    "    cat_col = [{'id': None, 'name': None} if v is None else v for v in cat_col]\n",
    "    cat_col = pd.DataFrame(cat_col)\n",
    "    cat_col.columns = cat + '.' + cat_col.columns\n",
    "\n",
    "    prod_df[cat_col.columns] = cat_col"
   ]
  },
  {
   "cell_type": "code",
   "execution_count": 5,
   "id": "935c9c6d",
   "metadata": {},
   "outputs": [
    {
     "data": {
      "text/plain": [
       "0.8413189077794951"
      ]
     },
     "execution_count": 5,
     "metadata": {},
     "output_type": "execute_result"
    }
   ],
   "source": [
    "train_data = prod_df['description'][0:40000]\n",
    "test_data = prod_df['description'][40000:]\n",
    "\n",
    "train_target = prod_df['cat1.id'][0:40000]\n",
    "test_target = prod_df['cat1.id'][40000:]\n",
    "\n",
    "count_vect = CountVectorizer()\n",
    "X_train_counts = count_vect.fit_transform(train_data)\n",
    "X_train_counts.shape\n",
    "\n",
    "from sklearn.feature_extraction.text import TfidfTransformer\n",
    "tfidf_transformer = TfidfTransformer()\n",
    "X_train_tfidf = tfidf_transformer.fit_transform(X_train_counts)\n",
    "X_train_tfidf.shape\n",
    "\n",
    "clf = MultinomialNB().fit(X_train_tfidf, train_target)\n",
    "\n",
    "text_clf = Pipeline([('vect', CountVectorizer()), ('tfidf', TfidfTransformer()), ('clf', MultinomialNB())])\n",
    "text_clf = text_clf.fit(train_data, train_target)\n",
    "\n",
    "predicted = text_clf.predict(test_data)\n",
    "np.mean(predicted == test_target)"
   ]
  },
  {
   "cell_type": "code",
   "execution_count": 6,
   "id": "ea5e3621",
   "metadata": {},
   "outputs": [
    {
     "data": {
      "text/plain": [
       "['text_clf.joblib']"
      ]
     },
     "execution_count": 6,
     "metadata": {},
     "output_type": "execute_result"
    }
   ],
   "source": [
    "dump(text_clf, 'text_clf.joblib') "
   ]
  },
  {
   "cell_type": "code",
   "execution_count": null,
   "id": "bd4bfb91",
   "metadata": {},
   "outputs": [],
   "source": []
  },
  {
   "cell_type": "code",
   "execution_count": null,
   "id": "543d45e8",
   "metadata": {},
   "outputs": [],
   "source": []
  },
  {
   "cell_type": "code",
   "execution_count": null,
   "id": "b8ce8a79",
   "metadata": {},
   "outputs": [],
   "source": []
  },
  {
   "cell_type": "code",
   "execution_count": null,
   "id": "7da0ac88",
   "metadata": {},
   "outputs": [],
   "source": []
  },
  {
   "cell_type": "code",
   "execution_count": null,
   "id": "60b688f6",
   "metadata": {},
   "outputs": [],
   "source": []
  }
 ],
 "metadata": {
  "kernelspec": {
   "display_name": "Python 3 (ipykernel)",
   "language": "python",
   "name": "python3"
  },
  "language_info": {
   "codemirror_mode": {
    "name": "ipython",
    "version": 3
   },
   "file_extension": ".py",
   "mimetype": "text/x-python",
   "name": "python",
   "nbconvert_exporter": "python",
   "pygments_lexer": "ipython3",
   "version": "3.9.7"
  }
 },
 "nbformat": 4,
 "nbformat_minor": 5
}
