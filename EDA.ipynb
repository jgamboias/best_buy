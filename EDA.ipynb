{
 "cells": [
  {
   "cell_type": "markdown",
   "id": "b8729f95",
   "metadata": {},
   "source": [
    "Using the following dataset, https://github.com/BestBuyAPIs/open-data-set; build \n",
    "an API with one endpoint that receives the “name” and “description” of a \n",
    "new product as input parameters, and outputs the “category” or “categories” that \n",
    "this new product should be in.\n",
    "\n",
    "Expectations:\n",
    "    • You have a data pipeline that handles the dataset.\n",
    "    • You build a classifier that predicts the category(s) of a new product.\n",
    "        ◦ You can decide if your model would output one or multiple labels.\n",
    "        ◦ You don't need to spend lots of time comparing different models.\n",
    "        ◦ You don't need to spend lots of time on trying to have the state of the art feature engineering.\n",
    "    • You build one API endpoint that exposes the classifier as a solution to label new products."
   ]
  },
  {
   "cell_type": "code",
   "execution_count": 24,
   "id": "fef5a02b",
   "metadata": {},
   "outputs": [],
   "source": [
    "import common\n",
    "import pandas as pd\n",
    "\n",
    "categories_path = 'open-data-set-master/categories.json'\n",
    "products_path = 'open-data-set-master/products.json'\n",
    "stores_path = 'open-data-set-master/stores.json'\n",
    "\n",
    "categories = common.read_file(categories_path)\n",
    "products = common.read_file(products_path)\n",
    "stores = common.read_file(stores_path)\n",
    "\n",
    "cat_df = pd.DataFrame.from_dict(categories)\n",
    "prod_df = pd.DataFrame.from_dict(products)\n",
    "\n",
    "prod_df[['cat1','cat2', 'cat3', 'cat4', 'cat5', 'cat6', 'cat7']] = pd.DataFrame(prod_df.category.tolist(), index= prod_df.index)\n"
   ]
  },
  {
   "cell_type": "code",
   "execution_count": 25,
   "id": "5f3c0a43",
   "metadata": {},
   "outputs": [
    {
     "data": {
      "text/html": [
       "<div>\n",
       "<style scoped>\n",
       "    .dataframe tbody tr th:only-of-type {\n",
       "        vertical-align: middle;\n",
       "    }\n",
       "\n",
       "    .dataframe tbody tr th {\n",
       "        vertical-align: top;\n",
       "    }\n",
       "\n",
       "    .dataframe thead th {\n",
       "        text-align: right;\n",
       "    }\n",
       "</style>\n",
       "<table border=\"1\" class=\"dataframe\">\n",
       "  <thead>\n",
       "    <tr style=\"text-align: right;\">\n",
       "      <th></th>\n",
       "      <th>sku</th>\n",
       "      <th>name</th>\n",
       "      <th>type</th>\n",
       "      <th>price</th>\n",
       "      <th>upc</th>\n",
       "      <th>category</th>\n",
       "      <th>shipping</th>\n",
       "      <th>description</th>\n",
       "      <th>manufacturer</th>\n",
       "      <th>model</th>\n",
       "      <th>url</th>\n",
       "      <th>image</th>\n",
       "      <th>cat1</th>\n",
       "      <th>cat2</th>\n",
       "      <th>cat3</th>\n",
       "      <th>cat4</th>\n",
       "      <th>cat5</th>\n",
       "      <th>cat6</th>\n",
       "      <th>cat7</th>\n",
       "    </tr>\n",
       "  </thead>\n",
       "  <tbody>\n",
       "    <tr>\n",
       "      <th>0</th>\n",
       "      <td>43900</td>\n",
       "      <td>Duracell - AAA Batteries (4-Pack)</td>\n",
       "      <td>HardGood</td>\n",
       "      <td>5.49</td>\n",
       "      <td>041333424019</td>\n",
       "      <td>[{'id': 'pcmcat312300050015', 'name': 'Connect...</td>\n",
       "      <td>5.49</td>\n",
       "      <td>Compatible with select electronic devices; AAA...</td>\n",
       "      <td>Duracell</td>\n",
       "      <td>MN2400B4Z</td>\n",
       "      <td>http://www.bestbuy.com/site/duracell-aaa-batte...</td>\n",
       "      <td>http://img.bbystatic.com/BestBuy_US/images/pro...</td>\n",
       "      <td>{'id': 'pcmcat312300050015', 'name': 'Connecte...</td>\n",
       "      <td>{'id': 'pcmcat248700050021', 'name': 'Housewar...</td>\n",
       "      <td>{'id': 'pcmcat303600050001', 'name': 'Househol...</td>\n",
       "      <td>{'id': 'abcat0208002', 'name': 'Alkaline Batte...</td>\n",
       "      <td>None</td>\n",
       "      <td>None</td>\n",
       "      <td>None</td>\n",
       "    </tr>\n",
       "    <tr>\n",
       "      <th>1</th>\n",
       "      <td>48530</td>\n",
       "      <td>Duracell - AA 1.5V CopperTop Batteries (4-Pack)</td>\n",
       "      <td>HardGood</td>\n",
       "      <td>5.49</td>\n",
       "      <td>041333415017</td>\n",
       "      <td>[{'id': 'pcmcat312300050015', 'name': 'Connect...</td>\n",
       "      <td>5.49</td>\n",
       "      <td>Long-lasting energy; DURALOCK Power Preserve t...</td>\n",
       "      <td>Duracell</td>\n",
       "      <td>MN1500B4Z</td>\n",
       "      <td>http://www.bestbuy.com/site/duracell-aa-1-5v-c...</td>\n",
       "      <td>http://img.bbystatic.com/BestBuy_US/images/pro...</td>\n",
       "      <td>{'id': 'pcmcat312300050015', 'name': 'Connecte...</td>\n",
       "      <td>{'id': 'pcmcat248700050021', 'name': 'Housewar...</td>\n",
       "      <td>{'id': 'pcmcat303600050001', 'name': 'Househol...</td>\n",
       "      <td>{'id': 'abcat0208002', 'name': 'Alkaline Batte...</td>\n",
       "      <td>None</td>\n",
       "      <td>None</td>\n",
       "      <td>None</td>\n",
       "    </tr>\n",
       "    <tr>\n",
       "      <th>2</th>\n",
       "      <td>127687</td>\n",
       "      <td>Duracell - AA Batteries (8-Pack)</td>\n",
       "      <td>HardGood</td>\n",
       "      <td>7.49</td>\n",
       "      <td>041333825014</td>\n",
       "      <td>[{'id': 'pcmcat312300050015', 'name': 'Connect...</td>\n",
       "      <td>5.49</td>\n",
       "      <td>Compatible with select electronic devices; AA ...</td>\n",
       "      <td>Duracell</td>\n",
       "      <td>MN1500B8Z</td>\n",
       "      <td>http://www.bestbuy.com/site/duracell-aa-batter...</td>\n",
       "      <td>http://img.bbystatic.com/BestBuy_US/images/pro...</td>\n",
       "      <td>{'id': 'pcmcat312300050015', 'name': 'Connecte...</td>\n",
       "      <td>{'id': 'pcmcat248700050021', 'name': 'Housewar...</td>\n",
       "      <td>{'id': 'pcmcat303600050001', 'name': 'Househol...</td>\n",
       "      <td>{'id': 'abcat0208002', 'name': 'Alkaline Batte...</td>\n",
       "      <td>None</td>\n",
       "      <td>None</td>\n",
       "      <td>None</td>\n",
       "    </tr>\n",
       "    <tr>\n",
       "      <th>3</th>\n",
       "      <td>150115</td>\n",
       "      <td>Energizer - MAX Batteries AA (4-Pack)</td>\n",
       "      <td>HardGood</td>\n",
       "      <td>4.99</td>\n",
       "      <td>039800011329</td>\n",
       "      <td>[{'id': 'pcmcat312300050015', 'name': 'Connect...</td>\n",
       "      <td>5.49</td>\n",
       "      <td>4-pack AA alkaline batteries; battery tester i...</td>\n",
       "      <td>Energizer</td>\n",
       "      <td>E91BP-4</td>\n",
       "      <td>http://www.bestbuy.com/site/energizer-max-batt...</td>\n",
       "      <td>http://img.bbystatic.com/BestBuy_US/images/pro...</td>\n",
       "      <td>{'id': 'pcmcat312300050015', 'name': 'Connecte...</td>\n",
       "      <td>{'id': 'pcmcat248700050021', 'name': 'Housewar...</td>\n",
       "      <td>{'id': 'pcmcat303600050001', 'name': 'Househol...</td>\n",
       "      <td>{'id': 'abcat0208002', 'name': 'Alkaline Batte...</td>\n",
       "      <td>None</td>\n",
       "      <td>None</td>\n",
       "      <td>None</td>\n",
       "    </tr>\n",
       "    <tr>\n",
       "      <th>4</th>\n",
       "      <td>185230</td>\n",
       "      <td>Duracell - C Batteries (4-Pack)</td>\n",
       "      <td>HardGood</td>\n",
       "      <td>8.99</td>\n",
       "      <td>041333440019</td>\n",
       "      <td>[{'id': 'pcmcat312300050015', 'name': 'Connect...</td>\n",
       "      <td>5.49</td>\n",
       "      <td>Compatible with select electronic devices; C s...</td>\n",
       "      <td>Duracell</td>\n",
       "      <td>MN1400R4Z</td>\n",
       "      <td>http://www.bestbuy.com/site/duracell-c-batteri...</td>\n",
       "      <td>http://img.bbystatic.com/BestBuy_US/images/pro...</td>\n",
       "      <td>{'id': 'pcmcat312300050015', 'name': 'Connecte...</td>\n",
       "      <td>{'id': 'pcmcat248700050021', 'name': 'Housewar...</td>\n",
       "      <td>{'id': 'pcmcat303600050001', 'name': 'Househol...</td>\n",
       "      <td>{'id': 'abcat0208002', 'name': 'Alkaline Batte...</td>\n",
       "      <td>None</td>\n",
       "      <td>None</td>\n",
       "      <td>None</td>\n",
       "    </tr>\n",
       "  </tbody>\n",
       "</table>\n",
       "</div>"
      ],
      "text/plain": [
       "      sku                                             name      type  price  \\\n",
       "0   43900                Duracell - AAA Batteries (4-Pack)  HardGood   5.49   \n",
       "1   48530  Duracell - AA 1.5V CopperTop Batteries (4-Pack)  HardGood   5.49   \n",
       "2  127687                 Duracell - AA Batteries (8-Pack)  HardGood   7.49   \n",
       "3  150115            Energizer - MAX Batteries AA (4-Pack)  HardGood   4.99   \n",
       "4  185230                  Duracell - C Batteries (4-Pack)  HardGood   8.99   \n",
       "\n",
       "            upc                                           category shipping  \\\n",
       "0  041333424019  [{'id': 'pcmcat312300050015', 'name': 'Connect...     5.49   \n",
       "1  041333415017  [{'id': 'pcmcat312300050015', 'name': 'Connect...     5.49   \n",
       "2  041333825014  [{'id': 'pcmcat312300050015', 'name': 'Connect...     5.49   \n",
       "3  039800011329  [{'id': 'pcmcat312300050015', 'name': 'Connect...     5.49   \n",
       "4  041333440019  [{'id': 'pcmcat312300050015', 'name': 'Connect...     5.49   \n",
       "\n",
       "                                         description manufacturer      model  \\\n",
       "0  Compatible with select electronic devices; AAA...     Duracell  MN2400B4Z   \n",
       "1  Long-lasting energy; DURALOCK Power Preserve t...     Duracell  MN1500B4Z   \n",
       "2  Compatible with select electronic devices; AA ...     Duracell  MN1500B8Z   \n",
       "3  4-pack AA alkaline batteries; battery tester i...    Energizer    E91BP-4   \n",
       "4  Compatible with select electronic devices; C s...     Duracell  MN1400R4Z   \n",
       "\n",
       "                                                 url  \\\n",
       "0  http://www.bestbuy.com/site/duracell-aaa-batte...   \n",
       "1  http://www.bestbuy.com/site/duracell-aa-1-5v-c...   \n",
       "2  http://www.bestbuy.com/site/duracell-aa-batter...   \n",
       "3  http://www.bestbuy.com/site/energizer-max-batt...   \n",
       "4  http://www.bestbuy.com/site/duracell-c-batteri...   \n",
       "\n",
       "                                               image  \\\n",
       "0  http://img.bbystatic.com/BestBuy_US/images/pro...   \n",
       "1  http://img.bbystatic.com/BestBuy_US/images/pro...   \n",
       "2  http://img.bbystatic.com/BestBuy_US/images/pro...   \n",
       "3  http://img.bbystatic.com/BestBuy_US/images/pro...   \n",
       "4  http://img.bbystatic.com/BestBuy_US/images/pro...   \n",
       "\n",
       "                                                cat1  \\\n",
       "0  {'id': 'pcmcat312300050015', 'name': 'Connecte...   \n",
       "1  {'id': 'pcmcat312300050015', 'name': 'Connecte...   \n",
       "2  {'id': 'pcmcat312300050015', 'name': 'Connecte...   \n",
       "3  {'id': 'pcmcat312300050015', 'name': 'Connecte...   \n",
       "4  {'id': 'pcmcat312300050015', 'name': 'Connecte...   \n",
       "\n",
       "                                                cat2  \\\n",
       "0  {'id': 'pcmcat248700050021', 'name': 'Housewar...   \n",
       "1  {'id': 'pcmcat248700050021', 'name': 'Housewar...   \n",
       "2  {'id': 'pcmcat248700050021', 'name': 'Housewar...   \n",
       "3  {'id': 'pcmcat248700050021', 'name': 'Housewar...   \n",
       "4  {'id': 'pcmcat248700050021', 'name': 'Housewar...   \n",
       "\n",
       "                                                cat3  \\\n",
       "0  {'id': 'pcmcat303600050001', 'name': 'Househol...   \n",
       "1  {'id': 'pcmcat303600050001', 'name': 'Househol...   \n",
       "2  {'id': 'pcmcat303600050001', 'name': 'Househol...   \n",
       "3  {'id': 'pcmcat303600050001', 'name': 'Househol...   \n",
       "4  {'id': 'pcmcat303600050001', 'name': 'Househol...   \n",
       "\n",
       "                                                cat4  cat5  cat6  cat7  \n",
       "0  {'id': 'abcat0208002', 'name': 'Alkaline Batte...  None  None  None  \n",
       "1  {'id': 'abcat0208002', 'name': 'Alkaline Batte...  None  None  None  \n",
       "2  {'id': 'abcat0208002', 'name': 'Alkaline Batte...  None  None  None  \n",
       "3  {'id': 'abcat0208002', 'name': 'Alkaline Batte...  None  None  None  \n",
       "4  {'id': 'abcat0208002', 'name': 'Alkaline Batte...  None  None  None  "
      ]
     },
     "execution_count": 25,
     "metadata": {},
     "output_type": "execute_result"
    }
   ],
   "source": [
    "prod_df.head()"
   ]
  },
  {
   "cell_type": "code",
   "execution_count": 12,
   "id": "ffffdd27",
   "metadata": {},
   "outputs": [],
   "source": [
    "#Loading the data set - training data.\n",
    "from sklearn.datasets import fetch_20newsgroups\n",
    "twenty_train = fetch_20newsgroups(subset='train', shuffle=True)"
   ]
  },
  {
   "cell_type": "code",
   "execution_count": 14,
   "id": "c956ba9c",
   "metadata": {},
   "outputs": [
    {
     "name": "stdout",
     "output_type": "stream",
     "text": [
      "From: lerxst@wam.umd.edu (where's my thing)\n",
      "Subject: WHAT car is this!?\n",
      "Nntp-Posting-Host: rac3.wam.umd.edu\n"
     ]
    }
   ],
   "source": [
    "print(\"\\n\".join(twenty_train.data[0].split(\"\\n\")[:3])) #prints first line of the first data file"
   ]
  },
  {
   "cell_type": "code",
   "execution_count": 15,
   "id": "1b5a8d35",
   "metadata": {},
   "outputs": [
    {
     "data": {
      "text/plain": [
       "(11314, 130107)"
      ]
     },
     "execution_count": 15,
     "metadata": {},
     "output_type": "execute_result"
    }
   ],
   "source": [
    "# Extracting features from text files\n",
    "from sklearn.feature_extraction.text import CountVectorizer\n",
    "count_vect = CountVectorizer()\n",
    "X_train_counts = count_vect.fit_transform(twenty_train.data)\n",
    "X_train_counts.shape"
   ]
  },
  {
   "cell_type": "code",
   "execution_count": 16,
   "id": "4eb26fa9",
   "metadata": {},
   "outputs": [
    {
     "data": {
      "text/plain": [
       "(11314, 130107)"
      ]
     },
     "execution_count": 16,
     "metadata": {},
     "output_type": "execute_result"
    }
   ],
   "source": [
    "# TF-IDF\n",
    "from sklearn.feature_extraction.text import TfidfTransformer\n",
    "tfidf_transformer = TfidfTransformer()\n",
    "X_train_tfidf = tfidf_transformer.fit_transform(X_train_counts)\n",
    "X_train_tfidf.shape"
   ]
  },
  {
   "cell_type": "code",
   "execution_count": 23,
   "id": "2db61d4d",
   "metadata": {},
   "outputs": [
    {
     "data": {
      "text/plain": [
       "\"From: lerxst@wam.umd.edu (where's my thing)\\nSubject: WHAT car is this!?\\nNntp-Posting-Host: rac3.wam.umd.edu\\nOrganization: University of Maryland, College Park\\nLines: 15\\n\\n I was wondering if anyone out there could enlighten me on this car I saw\\nthe other day. It was a 2-door sports car, looked to be from the late 60s/\\nearly 70s. It was called a Bricklin. The doors were really small. In addition,\\nthe front bumper was separate from the rest of the body. This is \\nall I know. If anyone can tellme a model name, engine specs, years\\nof production, where this car is made, history, or whatever info you\\nhave on this funky looking car, please e-mail.\\n\\nThanks,\\n- IL\\n   ---- brought to you by your neighborhood Lerxst ----\\n\\n\\n\\n\\n\""
      ]
     },
     "execution_count": 23,
     "metadata": {},
     "output_type": "execute_result"
    }
   ],
   "source": [
    "twenty_train.data[0]"
   ]
  },
  {
   "cell_type": "code",
   "execution_count": null,
   "id": "850af509",
   "metadata": {},
   "outputs": [],
   "source": []
  },
  {
   "cell_type": "code",
   "execution_count": 17,
   "id": "a01d3459",
   "metadata": {},
   "outputs": [],
   "source": [
    "# Machine Learning\n",
    "# Training Naive Bayes (NB) classifier on training data.\n",
    "from sklearn.naive_bayes import MultinomialNB\n",
    "clf = MultinomialNB().fit(X_train_tfidf, twenty_train.target)"
   ]
  },
  {
   "cell_type": "code",
   "execution_count": 18,
   "id": "3414ef8c",
   "metadata": {},
   "outputs": [],
   "source": [
    "# Building a pipeline: We can write less code and do all of the above, by building a pipeline as follows:\n",
    "# The names ‘vect’ , ‘tfidf’ and ‘clf’ are arbitrary but will be used later.\n",
    "# We will be using the 'text_clf' going forward.\n",
    "from sklearn.pipeline import Pipeline\n",
    "\n",
    "text_clf = Pipeline([('vect', CountVectorizer()), ('tfidf', TfidfTransformer()), ('clf', MultinomialNB())])\n",
    "\n",
    "text_clf = text_clf.fit(twenty_train.data, twenty_train.target)"
   ]
  },
  {
   "cell_type": "code",
   "execution_count": 19,
   "id": "acaa8cf2",
   "metadata": {},
   "outputs": [
    {
     "data": {
      "text/plain": [
       "0.7738980350504514"
      ]
     },
     "execution_count": 19,
     "metadata": {},
     "output_type": "execute_result"
    }
   ],
   "source": [
    "# Performance of NB Classifier\n",
    "import numpy as np\n",
    "twenty_test = fetch_20newsgroups(subset='test', shuffle=True)\n",
    "predicted = text_clf.predict(twenty_test.data)\n",
    "np.mean(predicted == twenty_test.target)"
   ]
  },
  {
   "cell_type": "code",
   "execution_count": null,
   "id": "4612a4a0",
   "metadata": {},
   "outputs": [],
   "source": []
  },
  {
   "cell_type": "code",
   "execution_count": null,
   "id": "16d79279",
   "metadata": {},
   "outputs": [],
   "source": []
  },
  {
   "cell_type": "code",
   "execution_count": null,
   "id": "48509514",
   "metadata": {},
   "outputs": [],
   "source": []
  },
  {
   "cell_type": "code",
   "execution_count": null,
   "id": "fe2251f9",
   "metadata": {},
   "outputs": [],
   "source": []
  },
  {
   "cell_type": "code",
   "execution_count": null,
   "id": "697daf73",
   "metadata": {},
   "outputs": [],
   "source": []
  }
 ],
 "metadata": {
  "kernelspec": {
   "display_name": "Python 3 (ipykernel)",
   "language": "python",
   "name": "python3"
  },
  "language_info": {
   "codemirror_mode": {
    "name": "ipython",
    "version": 3
   },
   "file_extension": ".py",
   "mimetype": "text/x-python",
   "name": "python",
   "nbconvert_exporter": "python",
   "pygments_lexer": "ipython3",
   "version": "3.9.7"
  }
 },
 "nbformat": 4,
 "nbformat_minor": 5
}
